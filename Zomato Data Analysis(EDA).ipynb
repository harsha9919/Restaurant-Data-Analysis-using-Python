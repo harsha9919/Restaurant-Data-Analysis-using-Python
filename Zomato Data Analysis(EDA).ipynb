{
 "cells": [
  {
   "cell_type": "code",
   "execution_count": 1,
   "metadata": {},
   "outputs": [],
   "source": [
    "import pandas as pd\n",
    "import numpy as np\n",
    "import matplotlib.pyplot as plt\n",
    "import seaborn as sns\n",
    "import plotly.express as px"
   ]
  },
  {
   "cell_type": "code",
   "execution_count": 2,
   "metadata": {},
   "outputs": [
    {
     "name": "stdout",
     "output_type": "stream",
     "text": [
      "      Restaurant Name           City  Rating                Cuisines  \\\n",
      "0      ABC Restaurant       New York     4.2          Italian, Pizza   \n",
      "1          XYZ Bistro        Chicago     3.8         Indian, Chinese   \n",
      "2      The Food Place  San Francisco     4.5         American, Pizza   \n",
      "3        Sushi Corner    Los Angeles     4.8         Japanese, Sushi   \n",
      "4        Bella Italia          Miami     4.1  Italian, Mediterranean   \n",
      "5        Dragon House      Las Vegas     4.4          Chinese, Asian   \n",
      "6     Tandoori Nights        Houston     4.3       Indian, Pakistani   \n",
      "7    The Burger Joint         Dallas     4.0     American, Fast Food   \n",
      "8         La Pizzeria        Chicago     4.7          Italian, Pizza   \n",
      "9         Tokyo Grill  San Francisco     4.6         Japanese, Sushi   \n",
      "10       Curry Garden        Atlanta     4.0      Indian, Vegetarian   \n",
      "11       Spice Street       New York     3.9      Thai, Asian Fusion   \n",
      "12  The Seafood Shack         Boston     4.2       Seafood, American   \n",
      "13      Vegan Delight    Los Angeles     4.5         Vegan, American   \n",
      "14     The Steakhouse          Miami     4.3         Steak, American   \n",
      "15     Tacos El Gordo      San Diego     4.0      Mexican, Fast Food   \n",
      "16   Pasta Perfection         Dallas     4.4          Italian, Pasta   \n",
      "17         BBQ Nation        Houston     4.1           BBQ, American   \n",
      "18      Sushi Express        Seattle     4.7         Japanese, Sushi   \n",
      "19    Parisian Bistro       New York     4.3        French, European   \n",
      "\n",
      "    Cost for two            Location  \n",
      "0           1500           Manhattan  \n",
      "1           1200            Downtown  \n",
      "2           1800            Bay Area  \n",
      "3           2000           Hollywood  \n",
      "4           1700       Little Havana  \n",
      "5           1300               Strip  \n",
      "6           1100            Downtown  \n",
      "7            800              Uptown  \n",
      "8           1400        Lincoln Park  \n",
      "9           2100  Financial District  \n",
      "10           900             Midtown  \n",
      "11          1600        East Village  \n",
      "12          2200          Waterfront  \n",
      "13          1200              Venice  \n",
      "14          2500         South Beach  \n",
      "15           600     Gaslamp Quarter  \n",
      "16          1500          Deep Ellum  \n",
      "17          1800             Midtown  \n",
      "18          2000            Downtown  \n",
      "19          1800     Upper East Side  \n"
     ]
    }
   ],
   "source": [
    "df = pd.read_csv(r\"C:\\Users\\harsh\\Desktop\\New Microsoft Excel Worksheet.csv\")\n",
    "print(df)"
   ]
  },
  {
   "cell_type": "code",
   "execution_count": 3,
   "metadata": {},
   "outputs": [
    {
     "name": "stdout",
     "output_type": "stream",
     "text": [
      "<bound method NDFrame.head of       Restaurant Name           City  Rating                Cuisines  \\\n",
      "0      ABC Restaurant       New York     4.2          Italian, Pizza   \n",
      "1          XYZ Bistro        Chicago     3.8         Indian, Chinese   \n",
      "2      The Food Place  San Francisco     4.5         American, Pizza   \n",
      "3        Sushi Corner    Los Angeles     4.8         Japanese, Sushi   \n",
      "4        Bella Italia          Miami     4.1  Italian, Mediterranean   \n",
      "5        Dragon House      Las Vegas     4.4          Chinese, Asian   \n",
      "6     Tandoori Nights        Houston     4.3       Indian, Pakistani   \n",
      "7    The Burger Joint         Dallas     4.0     American, Fast Food   \n",
      "8         La Pizzeria        Chicago     4.7          Italian, Pizza   \n",
      "9         Tokyo Grill  San Francisco     4.6         Japanese, Sushi   \n",
      "10       Curry Garden        Atlanta     4.0      Indian, Vegetarian   \n",
      "11       Spice Street       New York     3.9      Thai, Asian Fusion   \n",
      "12  The Seafood Shack         Boston     4.2       Seafood, American   \n",
      "13      Vegan Delight    Los Angeles     4.5         Vegan, American   \n",
      "14     The Steakhouse          Miami     4.3         Steak, American   \n",
      "15     Tacos El Gordo      San Diego     4.0      Mexican, Fast Food   \n",
      "16   Pasta Perfection         Dallas     4.4          Italian, Pasta   \n",
      "17         BBQ Nation        Houston     4.1           BBQ, American   \n",
      "18      Sushi Express        Seattle     4.7         Japanese, Sushi   \n",
      "19    Parisian Bistro       New York     4.3        French, European   \n",
      "\n",
      "    Cost for two            Location  \n",
      "0           1500           Manhattan  \n",
      "1           1200            Downtown  \n",
      "2           1800            Bay Area  \n",
      "3           2000           Hollywood  \n",
      "4           1700       Little Havana  \n",
      "5           1300               Strip  \n",
      "6           1100            Downtown  \n",
      "7            800              Uptown  \n",
      "8           1400        Lincoln Park  \n",
      "9           2100  Financial District  \n",
      "10           900             Midtown  \n",
      "11          1600        East Village  \n",
      "12          2200          Waterfront  \n",
      "13          1200              Venice  \n",
      "14          2500         South Beach  \n",
      "15           600     Gaslamp Quarter  \n",
      "16          1500          Deep Ellum  \n",
      "17          1800             Midtown  \n",
      "18          2000            Downtown  \n",
      "19          1800     Upper East Side  >\n"
     ]
    }
   ],
   "source": [
    "print(df.head)"
   ]
  },
  {
   "cell_type": "code",
   "execution_count": 4,
   "metadata": {},
   "outputs": [
    {
     "name": "stdout",
     "output_type": "stream",
     "text": [
      "<bound method DataFrame.info of       Restaurant Name           City  Rating                Cuisines  \\\n",
      "0      ABC Restaurant       New York     4.2          Italian, Pizza   \n",
      "1          XYZ Bistro        Chicago     3.8         Indian, Chinese   \n",
      "2      The Food Place  San Francisco     4.5         American, Pizza   \n",
      "3        Sushi Corner    Los Angeles     4.8         Japanese, Sushi   \n",
      "4        Bella Italia          Miami     4.1  Italian, Mediterranean   \n",
      "5        Dragon House      Las Vegas     4.4          Chinese, Asian   \n",
      "6     Tandoori Nights        Houston     4.3       Indian, Pakistani   \n",
      "7    The Burger Joint         Dallas     4.0     American, Fast Food   \n",
      "8         La Pizzeria        Chicago     4.7          Italian, Pizza   \n",
      "9         Tokyo Grill  San Francisco     4.6         Japanese, Sushi   \n",
      "10       Curry Garden        Atlanta     4.0      Indian, Vegetarian   \n",
      "11       Spice Street       New York     3.9      Thai, Asian Fusion   \n",
      "12  The Seafood Shack         Boston     4.2       Seafood, American   \n",
      "13      Vegan Delight    Los Angeles     4.5         Vegan, American   \n",
      "14     The Steakhouse          Miami     4.3         Steak, American   \n",
      "15     Tacos El Gordo      San Diego     4.0      Mexican, Fast Food   \n",
      "16   Pasta Perfection         Dallas     4.4          Italian, Pasta   \n",
      "17         BBQ Nation        Houston     4.1           BBQ, American   \n",
      "18      Sushi Express        Seattle     4.7         Japanese, Sushi   \n",
      "19    Parisian Bistro       New York     4.3        French, European   \n",
      "\n",
      "    Cost for two            Location  \n",
      "0           1500           Manhattan  \n",
      "1           1200            Downtown  \n",
      "2           1800            Bay Area  \n",
      "3           2000           Hollywood  \n",
      "4           1700       Little Havana  \n",
      "5           1300               Strip  \n",
      "6           1100            Downtown  \n",
      "7            800              Uptown  \n",
      "8           1400        Lincoln Park  \n",
      "9           2100  Financial District  \n",
      "10           900             Midtown  \n",
      "11          1600        East Village  \n",
      "12          2200          Waterfront  \n",
      "13          1200              Venice  \n",
      "14          2500         South Beach  \n",
      "15           600     Gaslamp Quarter  \n",
      "16          1500          Deep Ellum  \n",
      "17          1800             Midtown  \n",
      "18          2000            Downtown  \n",
      "19          1800     Upper East Side  >\n"
     ]
    }
   ],
   "source": [
    "print(df.info)"
   ]
  },
  {
   "cell_type": "code",
   "execution_count": 5,
   "metadata": {},
   "outputs": [],
   "source": [
    "# Data Cleaning\n",
    "df = df.dropna(subset=['City', 'Rating', 'Cuisines', 'Cost for two'])"
   ]
  },
  {
   "cell_type": "code",
   "execution_count": 6,
   "metadata": {},
   "outputs": [
    {
     "name": "stdout",
     "output_type": "stream",
     "text": [
      "      Restaurant Name           City  Rating                Cuisines  \\\n",
      "0      ABC Restaurant       New York     4.2          Italian, Pizza   \n",
      "1          XYZ Bistro        Chicago     3.8         Indian, Chinese   \n",
      "2      The Food Place  San Francisco     4.5         American, Pizza   \n",
      "3        Sushi Corner    Los Angeles     4.8         Japanese, Sushi   \n",
      "4        Bella Italia          Miami     4.1  Italian, Mediterranean   \n",
      "5        Dragon House      Las Vegas     4.4          Chinese, Asian   \n",
      "6     Tandoori Nights        Houston     4.3       Indian, Pakistani   \n",
      "7    The Burger Joint         Dallas     4.0     American, Fast Food   \n",
      "8         La Pizzeria        Chicago     4.7          Italian, Pizza   \n",
      "9         Tokyo Grill  San Francisco     4.6         Japanese, Sushi   \n",
      "10       Curry Garden        Atlanta     4.0      Indian, Vegetarian   \n",
      "11       Spice Street       New York     3.9      Thai, Asian Fusion   \n",
      "12  The Seafood Shack         Boston     4.2       Seafood, American   \n",
      "13      Vegan Delight    Los Angeles     4.5         Vegan, American   \n",
      "14     The Steakhouse          Miami     4.3         Steak, American   \n",
      "15     Tacos El Gordo      San Diego     4.0      Mexican, Fast Food   \n",
      "16   Pasta Perfection         Dallas     4.4          Italian, Pasta   \n",
      "17         BBQ Nation        Houston     4.1           BBQ, American   \n",
      "18      Sushi Express        Seattle     4.7         Japanese, Sushi   \n",
      "19    Parisian Bistro       New York     4.3        French, European   \n",
      "\n",
      "    Cost for two            Location  \n",
      "0           1500           Manhattan  \n",
      "1           1200            Downtown  \n",
      "2           1800            Bay Area  \n",
      "3           2000           Hollywood  \n",
      "4           1700       Little Havana  \n",
      "5           1300               Strip  \n",
      "6           1100            Downtown  \n",
      "7            800              Uptown  \n",
      "8           1400        Lincoln Park  \n",
      "9           2100  Financial District  \n",
      "10           900             Midtown  \n",
      "11          1600        East Village  \n",
      "12          2200          Waterfront  \n",
      "13          1200              Venice  \n",
      "14          2500         South Beach  \n",
      "15           600     Gaslamp Quarter  \n",
      "16          1500          Deep Ellum  \n",
      "17          1800             Midtown  \n",
      "18          2000            Downtown  \n",
      "19          1800     Upper East Side  \n"
     ]
    }
   ],
   "source": [
    "print(df)"
   ]
  },
  {
   "cell_type": "code",
   "execution_count": 7,
   "metadata": {},
   "outputs": [],
   "source": [
    "df['Rating'] = pd.to_numeric(df['Rating'], errors='coerce')\n",
    "df = df.dropna(subset=['Rating'])"
   ]
  },
  {
   "cell_type": "code",
   "execution_count": 8,
   "metadata": {},
   "outputs": [
    {
     "name": "stdout",
     "output_type": "stream",
     "text": [
      "['New York' 'Chicago' 'San Francisco' 'Los Angeles' 'Miami' 'Las Vegas'\n",
      " 'Houston' 'Dallas' 'Atlanta' 'Boston' 'San Diego' 'Seattle']\n",
      "['Italian, Pizza' 'Indian, Chinese' 'American, Pizza' 'Japanese, Sushi'\n",
      " 'Italian, Mediterranean' 'Chinese, Asian' 'Indian, Pakistani'\n",
      " 'American, Fast Food' 'Indian, Vegetarian' 'Thai, Asian Fusion'\n",
      " 'Seafood, American' 'Vegan, American' 'Steak, American'\n",
      " 'Mexican, Fast Food' 'Italian, Pasta' 'BBQ, American' 'French, European']\n"
     ]
    }
   ],
   "source": [
    "# exploring the unique cities and cuises\n",
    "print(df['City'].unique())\n",
    "print(df['Cuisines'].unique())"
   ]
  },
  {
   "cell_type": "code",
   "execution_count": 9,
   "metadata": {},
   "outputs": [],
   "source": [
    "df = df.drop_duplicates()"
   ]
  },
  {
   "cell_type": "code",
   "execution_count": 10,
   "metadata": {},
   "outputs": [
    {
     "data": {
      "image/png": "[encoded data removed]",
      "text/plain": [
       "<Figure size 640x480 with 1 Axes>"
      ]
     },
     "metadata": {},
     "output_type": "display_data"
    }
   ],
   "source": [
    "# Exploratory data analysis(EDA)\n",
    "plt.Figure(figsize=(10,6))\n",
    "sns.histplot(df['Rating'], kde=True , color='blue')\n",
    "plt.title('Distribution of Restaurant Ratings')\n",
    "plt.xlabel('Ratings')\n",
    "plt.ylabel('Frequency')\n",
    "plt.show()"
   ]
  },
  {
   "cell_type": "code",
   "execution_count": 11,
   "metadata": {},
   "outputs": [
    {
     "data": {
      "image/png": "[encoded data removed]",
      "text/plain": [
       "<Figure size 640x480 with 1 Axes>"
      ]
     },
     "metadata": {},
     "output_type": "display_data"
    }
   ],
   "source": [
    "# Average cost for two city\n",
    "avg_cost_by_city = df.groupby('City')['Cost for two'].mean().sort_values(ascending=False)\n",
    "plt.Figure(figsize=(12,6))\n",
    "avg_cost_by_city.head(20).plot(kind='bar', color='green')\n",
    "plt.title('Average Cost for Two In Each City')\n",
    "plt.xlabel(['City'])\n",
    "plt.ylabel(['Average Cost for Two(INR)'])\n",
    "plt.xticks(rotation=90)\n",
    "plt.show()"
   ]
  },
  {
   "cell_type": "code",
   "execution_count": 12,
   "metadata": {},
   "outputs": [
    {
     "data": {
      "image/png": "[encoded data removed]",
      "text/plain": [
       "<Figure size 640x480 with 1 Axes>"
      ]
     },
     "metadata": {},
     "output_type": "display_data"
    }
   ],
   "source": [
    "#   Most Common cuisness in the dataset\n",
    "cuisine_counts = df['Cuisines'].value_counts().head(10)\n",
    "plt.Figure(figsize=(10,6))\n",
    "cuisine_counts.plot(kind='barh', color='orange')\n",
    "plt.title(\"Top 10 Most common Cuisines\")\n",
    "plt.xlabel('Frequency')\n",
    "plt.ylabel('Cuisines')\n",
    "plt.show()"
   ]
  },
  {
   "cell_type": "code",
   "execution_count": 13,
   "metadata": {},
   "outputs": [
    {
     "data": {
      "image/png": "[encoded data removed]",
      "text/plain": [
       "<Figure size 640x480 with 1 Axes>"
      ]
     },
     "metadata": {},
     "output_type": "display_data"
    }
   ],
   "source": [
    "# Relationship between Cost of two  and Rating\n",
    "plt.Figure(figsize=(10,6))\n",
    "sns.scatterplot(x='Cost for two', y='Rating', data=df, color='red')\n",
    "plt.title('Relationship between Cost for Two and Rating')\n",
    "plt.xlabel('Cost for two (INR)')\n",
    "plt.ylabel('Rating')\n",
    "plt.show()"
   ]
  },
  {
   "cell_type": "code",
   "execution_count": 14,
   "metadata": {},
   "outputs": [
    {
     "data": {
      "image/png": "[encoded data removed]",
      "text/plain": [
       "<Figure size 640x480 with 2 Axes>"
      ]
     },
     "metadata": {},
     "output_type": "display_data"
    }
   ],
   "source": [
    "# Heatmap of correlation between  numeric\n",
    "corr_matrix = df[['Rating','Cost for two']].corr()\n",
    "plt.Figure(figsize=(8,6))\n",
    "sns.heatmap(corr_matrix,annot=True, cmap='coolwarm')\n",
    "plt.title('Correlation between Rating And Cost for Two')\n",
    "plt.show()"
   ]
  },
  {
   "cell_type": "code",
   "execution_count": 16,
   "metadata": {},
   "outputs": [
    {
     "name": "stdout",
     "output_type": "stream",
     "text": [
      "Best Resturants by city based on Average Rating:\n",
      "City\n",
      "Seattle          4.70\n",
      "Los Angeles      4.65\n",
      "San Francisco    4.55\n",
      "Las Vegas        4.40\n",
      "Chicago          4.25\n",
      "Name: Rating, dtype: float64\n"
     ]
    }
   ],
   "source": [
    "# FINDING THE BEST RESTARANT IN THE CITY\n",
    "best_resturants_by_city = df.groupby('City')['Rating'].mean().sort_values(ascending=False)\n",
    "print(\"Best Resturants by city based on Average Rating:\")\n",
    "print(best_resturants_by_city.head())"
   ]
  },
  {
   "cell_type": "code",
   "execution_count": 17,
   "metadata": {},
   "outputs": [
    {
     "name": "stdout",
     "output_type": "stream",
     "text": [
      "The City with the highest average cost for two is: Boston\n"
     ]
    }
   ],
   "source": [
    "#  Find the City with the most expensive average cost for two\n",
    "most_expensive_city = avg_cost_by_city.idxmax()\n",
    "print(f\"The City with the highest average cost for two is: {most_expensive_city}\")"
   ]
  },
  {
   "cell_type": "code",
   "execution_count": 18,
   "metadata": {},
   "outputs": [
    {
     "data": {
      "application/vnd.plotly.v1+json": {
       "config": {
        "plotlyServerURL": "https://plot.ly"
       },
       "data": [
        {
         "alignmentgroup": "True",
         "hovertemplate": "City=%{x}<br>Average Rating=%{y}<extra></extra>",
         "legendgroup": "",
         "marker": {
          "color": "#636efa",
          "pattern": {
           "shape": ""
          }
         },
         "name": "",
         "offsetgroup": "",
         "orientation": "v",
         "showlegend": false,
         "textposition": "auto",
         "type": "bar",
         "x": [
          "Seattle",
          "Los Angeles",
          "San Francisco",
          "Las Vegas",
          "Chicago",
          "Boston",
          "Dallas",
          "Miami",
          "Houston",
          "New York"
         ],
         "xaxis": "x",
         "y": [
          4.7,
          4.65,
          4.55,
          4.4,
          4.25,
          4.2,
          4.2,
          4.199999999999999,
          4.199999999999999,
          4.133333333333334
         ],
         "yaxis": "y"
        }
       ],
       "layout": {
        "barmode": "relative",
        "legend": {
         "tracegroupgap": 0
        },
        "template": {
         "data": {
          "bar": [
           {
            "error_x": {
             "color": "#2a3f5f"
            },
            "error_y": {
             "color": "#2a3f5f"
            },
            "marker": {
             "line": {
              "color": "#E5ECF6",
              "width": 0.5
             },
             "pattern": {
              "fillmode": "overlay",
              "size": 10,
              "solidity": 0.2
             }
            },
            "type": "bar"
           }
          ],
          "barpolar": [
           {
            "marker": {
             "line": {
              "color": "#E5ECF6",
              "width": 0.5
             },
             "pattern": {
              "fillmode": "overlay",
              "size": 10,
              "solidity": 0.2
             }
            },
            "type": "barpolar"
           }
          ],
          "carpet": [
           {
            "aaxis": {
             "endlinecolor": "#2a3f5f",
             "gridcolor": "white",
             "linecolor": "white",
             "minorgridcolor": "white",
             "startlinecolor": "#2a3f5f"
            },
            "baxis": {
             "endlinecolor": "#2a3f5f",
             "gridcolor": "white",
             "linecolor": "white",
             "minorgridcolor": "white",
             "startlinecolor": "#2a3f5f"
            },
            "type": "carpet"
           }
          ],
          "choropleth": [
           {
            "colorbar": {
             "outlinewidth": 0,
             "ticks": ""
            },
            "type": "choropleth"
           }
          ],
          "contour": [
           {
            "colorbar": {
             "outlinewidth": 0,
             "ticks": ""
            },
            "colorscale": [
             [
              0,
              "#0d0887"
             ],
             [
              0.1111111111111111,
              "#46039f"
             ],
             [
              0.2222222222222222,
              "#7201a8"
             ],
             [
              0.3333333333333333,
              "#9c179e"
             ],
             [
              0.4444444444444444,
              "#bd3786"
             ],
             [
              0.5555555555555556,
              "#d8576b"
             ],
             [
              0.6666666666666666,
              "#ed7953"
             ],
             [
              0.7777777777777778,
              "#fb9f3a"
             ],
             [
              0.8888888888888888,
              "#fdca26"
             ],
             [
              1,
              "#f0f921"
             ]
            ],
            "type": "contour"
           }
          ],
          "contourcarpet": [
           {
            "colorbar": {
             "outlinewidth": 0,
             "ticks": ""
            },
            "type": "contourcarpet"
           }
          ],
          "heatmap": [
           {
            "colorbar": {
             "outlinewidth": 0,
             "ticks": ""
            },
            "colorscale": [
             [
              0,
              "#0d0887"
             ],
             [
              0.1111111111111111,
              "#46039f"
             ],
             [
              0.2222222222222222,
              "#7201a8"
             ],
             [
              0.3333333333333333,
              "#9c179e"
             ],
             [
              0.4444444444444444,
              "#bd3786"
             ],
             [
              0.5555555555555556,
              "#d8576b"
             ],
             [
              0.6666666666666666,
              "#ed7953"
             ],
             [
              0.7777777777777778,
              "#fb9f3a"
             ],
             [
              0.8888888888888888,
              "#fdca26"
             ],
             [
              1,
              "#f0f921"
             ]
            ],
            "type": "heatmap"
           }
          ],
          "heatmapgl": [
           {
            "colorbar": {
             "outlinewidth": 0,
             "ticks": ""
            },
            "colorscale": [
             [
              0,
              "#0d0887"
             ],
             [
              0.1111111111111111,
              "#46039f"
             ],
             [
              0.2222222222222222,
              "#7201a8"
             ],
             [
              0.3333333333333333,
              "#9c179e"
             ],
             [
              0.4444444444444444,
              "#bd3786"
             ],
             [
              0.5555555555555556,
              "#d8576b"
             ],
             [
              0.6666666666666666,
              "#ed7953"
             ],
             [
              0.7777777777777778,
              "#fb9f3a"
             ],
             [
              0.8888888888888888,
              "#fdca26"
             ],
             [
              1,
              "#f0f921"
             ]
            ],
            "type": "heatmapgl"
           }
          ],
          "histogram": [
           {
            "marker": {
             "pattern": {
              "fillmode": "overlay",
              "size": 10,
              "solidity": 0.2
             }
            },
            "type": "histogram"
           }
          ],
          "histogram2d": [
           {
            "colorbar": {
             "outlinewidth": 0,
             "ticks": ""
            },
            "colorscale": [
             [
              0,
              "#0d0887"
             ],
             [
              0.1111111111111111,
              "#46039f"
             ],
             [
              0.2222222222222222,
              "#7201a8"
             ],
             [
              0.3333333333333333,
              "#9c179e"
             ],
             [
              0.4444444444444444,
              "#bd3786"
             ],
             [
              0.5555555555555556,
              "#d8576b"
             ],
             [
              0.6666666666666666,
              "#ed7953"
             ],
             [
              0.7777777777777778,
              "#fb9f3a"
             ],
             [
              0.8888888888888888,
              "#fdca26"
             ],
             [
              1,
              "#f0f921"
             ]
            ],
            "type": "histogram2d"
           }
          ],
          "histogram2dcontour": [
           {
            "colorbar": {
             "outlinewidth": 0,
             "ticks": ""
            },
            "colorscale": [
             [
              0,
              "#0d0887"
             ],
             [
              0.1111111111111111,
              "#46039f"
             ],
             [
              0.2222222222222222,
              "#7201a8"
             ],
             [
              0.3333333333333333,
              "#9c179e"
             ],
             [
              0.4444444444444444,
              "#bd3786"
             ],
             [
              0.5555555555555556,
              "#d8576b"
             ],
             [
              0.6666666666666666,
              "#ed7953"
             ],
             [
              0.7777777777777778,
              "#fb9f3a"
             ],
             [
              0.8888888888888888,
              "#fdca26"
             ],
             [
              1,
              "#f0f921"
             ]
            ],
            "type": "histogram2dcontour"
           }
          ],
          "mesh3d": [
           {
            "colorbar": {
             "outlinewidth": 0,
             "ticks": ""
            },
            "type": "mesh3d"
           }
          ],
          "parcoords": [
           {
            "line": {
             "colorbar": {
              "outlinewidth": 0,
              "ticks": ""
             }
            },
            "type": "parcoords"
           }
          ],
          "pie": [
           {
            "automargin": true,
            "type": "pie"
           }
          ],
          "scatter": [
           {
            "fillpattern": {
             "fillmode": "overlay",
             "size": 10,
             "solidity": 0.2
            },
            "type": "scatter"
           }
          ],
          "scatter3d": [
           {
            "line": {
             "colorbar": {
              "outlinewidth": 0,
              "ticks": ""
             }
            },
            "marker": {
             "colorbar": {
              "outlinewidth": 0,
              "ticks": ""
             }
            },
            "type": "scatter3d"
           }
          ],
          "scattercarpet": [
           {
            "marker": {
             "colorbar": {
              "outlinewidth": 0,
              "ticks": ""
             }
            },
            "type": "scattercarpet"
           }
          ],
          "scattergeo": [
           {
            "marker": {
             "colorbar": {
              "outlinewidth": 0,
              "ticks": ""
             }
            },
            "type": "scattergeo"
           }
          ],
          "scattergl": [
           {
            "marker": {
             "colorbar": {
              "outlinewidth": 0,
              "ticks": ""
             }
            },
            "type": "scattergl"
           }
          ],
          "scattermapbox": [
           {
            "marker": {
             "colorbar": {
              "outlinewidth": 0,
              "ticks": ""
             }
            },
            "type": "scattermapbox"
           }
          ],
          "scatterpolar": [
           {
            "marker": {
             "colorbar": {
              "outlinewidth": 0,
              "ticks": ""
             }
            },
            "type": "scatterpolar"
           }
          ],
          "scatterpolargl": [
           {
            "marker": {
             "colorbar": {
              "outlinewidth": 0,
              "ticks": ""
             }
            },
            "type": "scatterpolargl"
           }
          ],
          "scatterternary": [
           {
            "marker": {
             "colorbar": {
              "outlinewidth": 0,
              "ticks": ""
             }
            },
            "type": "scatterternary"
           }
          ],
          "surface": [
           {
            "colorbar": {
             "outlinewidth": 0,
             "ticks": ""
            },
            "colorscale": [
             [
              0,
              "#0d0887"
             ],
             [
              0.1111111111111111,
              "#46039f"
             ],
             [
              0.2222222222222222,
              "#7201a8"
             ],
             [
              0.3333333333333333,
              "#9c179e"
             ],
             [
              0.4444444444444444,
              "#bd3786"
             ],
             [
              0.5555555555555556,
              "#d8576b"
             ],
             [
              0.6666666666666666,
              "#ed7953"
             ],
             [
              0.7777777777777778,
              "#fb9f3a"
             ],
             [
              0.8888888888888888,
              "#fdca26"
             ],
             [
              1,
              "#f0f921"
             ]
            ],
            "type": "surface"
           }
          ],
          "table": [
           {
            "cells": {
             "fill": {
              "color": "#EBF0F8"
             },
             "line": {
              "color": "white"
             }
            },
            "header": {
             "fill": {
              "color": "#C8D4E3"
             },
             "line": {
              "color": "white"
             }
            },
            "type": "table"
           }
          ]
         },
         "layout": {
          "annotationdefaults": {
           "arrowcolor": "#2a3f5f",
           "arrowhead": 0,
           "arrowwidth": 1
          },
          "autotypenumbers": "strict",
          "coloraxis": {
           "colorbar": {
            "outlinewidth": 0,
            "ticks": ""
           }
          },
          "colorscale": {
           "diverging": [
            [
             0,
             "#8e0152"
            ],
            [
             0.1,
             "#c51b7d"
            ],
            [
             0.2,
             "#de77ae"
            ],
            [
             0.3,
             "#f1b6da"
            ],
            [
             0.4,
             "#fde0ef"
            ],
            [
             0.5,
             "#f7f7f7"
            ],
            [
             0.6,
             "#e6f5d0"
            ],
            [
             0.7,
             "#b8e186"
            ],
            [
             0.8,
             "#7fbc41"
            ],
            [
             0.9,
             "#4d9221"
            ],
            [
             1,
             "#276419"
            ]
           ],
           "sequential": [
            [
             0,
             "#0d0887"
            ],
            [
             0.1111111111111111,
             "#46039f"
            ],
            [
             0.2222222222222222,
             "#7201a8"
            ],
            [
             0.3333333333333333,
             "#9c179e"
            ],
            [
             0.4444444444444444,
             "#bd3786"
            ],
            [
             0.5555555555555556,
             "#d8576b"
            ],
            [
             0.6666666666666666,
             "#ed7953"
            ],
            [
             0.7777777777777778,
             "#fb9f3a"
            ],
            [
             0.8888888888888888,
             "#fdca26"
            ],
            [
             1,
             "#f0f921"
            ]
           ],
           "sequentialminus": [
            [
             0,
             "#0d0887"
            ],
            [
             0.1111111111111111,
             "#46039f"
            ],
            [
             0.2222222222222222,
             "#7201a8"
            ],
            [
             0.3333333333333333,
             "#9c179e"
            ],
            [
             0.4444444444444444,
             "#bd3786"
            ],
            [
             0.5555555555555556,
             "#d8576b"
            ],
            [
             0.6666666666666666,
             "#ed7953"
            ],
            [
             0.7777777777777778,
             "#fb9f3a"
            ],
            [
             0.8888888888888888,
             "#fdca26"
            ],
            [
             1,
             "#f0f921"
            ]
           ]
          },
          "colorway": [
           "#636efa",
           "#EF553B",
           "#00cc96",
           "#ab63fa",
           "#FFA15A",
           "#19d3f3",
           "#FF6692",
           "#B6E880",
           "#FF97FF",
           "#FECB52"
          ],
          "font": {
           "color": "#2a3f5f"
          },
          "geo": {
           "bgcolor": "white",
           "lakecolor": "white",
           "landcolor": "#E5ECF6",
           "showlakes": true,
           "showland": true,
           "subunitcolor": "white"
          },
          "hoverlabel": {
           "align": "left"
          },
          "hovermode": "closest",
          "mapbox": {
           "style": "light"
          },
          "paper_bgcolor": "white",
          "plot_bgcolor": "#E5ECF6",
          "polar": {
           "angularaxis": {
            "gridcolor": "white",
            "linecolor": "white",
            "ticks": ""
           },
           "bgcolor": "#E5ECF6",
           "radialaxis": {
            "gridcolor": "white",
            "linecolor": "white",
            "ticks": ""
           }
          },
          "scene": {
           "xaxis": {
            "backgroundcolor": "#E5ECF6",
            "gridcolor": "white",
            "gridwidth": 2,
            "linecolor": "white",
            "showbackground": true,
            "ticks": "",
            "zerolinecolor": "white"
           },
           "yaxis": {
            "backgroundcolor": "#E5ECF6",
            "gridcolor": "white",
            "gridwidth": 2,
            "linecolor": "white",
            "showbackground": true,
            "ticks": "",
            "zerolinecolor": "white"
           },
           "zaxis": {
            "backgroundcolor": "#E5ECF6",
            "gridcolor": "white",
            "gridwidth": 2,
            "linecolor": "white",
            "showbackground": true,
            "ticks": "",
            "zerolinecolor": "white"
           }
          },
          "shapedefaults": {
           "line": {
            "color": "#2a3f5f"
           }
          },
          "ternary": {
           "aaxis": {
            "gridcolor": "white",
            "linecolor": "white",
            "ticks": ""
           },
           "baxis": {
            "gridcolor": "white",
            "linecolor": "white",
            "ticks": ""
           },
           "bgcolor": "#E5ECF6",
           "caxis": {
            "gridcolor": "white",
            "linecolor": "white",
            "ticks": ""
           }
          },
          "title": {
           "x": 0.05
          },
          "xaxis": {
           "automargin": true,
           "gridcolor": "white",
           "linecolor": "white",
           "ticks": "",
           "title": {
            "standoff": 15
           },
           "zerolinecolor": "white",
           "zerolinewidth": 2
          },
          "yaxis": {
           "automargin": true,
           "gridcolor": "white",
           "linecolor": "white",
           "ticks": "",
           "title": {
            "standoff": 15
           },
           "zerolinecolor": "white",
           "zerolinewidth": 2
          }
         }
        },
        "title": {
         "text": "Top Cities with the Best Resturants (Based on Ratings)"
        },
        "xaxis": {
         "anchor": "y",
         "domain": [
          0,
          1
         ],
         "title": {
          "text": "City"
         }
        },
        "yaxis": {
         "anchor": "x",
         "domain": [
          0,
          1
         ],
         "title": {
          "text": "Average Rating"
         }
        }
       }
      }
     },
     "metadata": {},
     "output_type": "display_data"
    }
   ],
   "source": [
    "#Interactive plt using Plotly:Top cities with highest average rating\n",
    "fig=px.bar(best_resturants_by_city.head(10), x = best_resturants_by_city.head(10).index,\n",
    "           y = best_resturants_by_city.head(10).values,title='Top Cities with the Best Resturants (Based on Ratings)', \n",
    "           labels={'x': 'City','y':'Average Rating'})\n",
    "fig.show()"
   ]
  },
  {
   "cell_type": "code",
   "execution_count": null,
   "metadata": {},
   "outputs": [],
   "source": []
  }
 ],
 "metadata": {
  "kernelspec": {
   "display_name": "Python 3",
   "language": "python",
   "name": "python3"
  },
  "language_info": {
   "codemirror_mode": {
    "name": "ipython",
    "version": 3
   },
   "file_extension": ".py",
   "mimetype": "text/x-python",
   "name": "python",
   "nbconvert_exporter": "python",
   "pygments_lexer": "ipython3",
   "version": "3.11.0"
  }
 },
 "nbformat": 4,
 "nbformat_minor": 2
}
